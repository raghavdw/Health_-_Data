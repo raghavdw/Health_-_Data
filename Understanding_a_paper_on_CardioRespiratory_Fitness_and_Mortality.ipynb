{
  "nbformat": 4,
  "nbformat_minor": 0,
  "metadata": {
    "colab": {
      "provenance": [],
      "authorship_tag": "ABX9TyMlXje38ghhtMeeOPxKHfFX",
      "include_colab_link": true
    },
    "kernelspec": {
      "name": "python3",
      "display_name": "Python 3"
    },
    "language_info": {
      "name": "python"
    }
  },
  "cells": [
    {
      "cell_type": "markdown",
      "metadata": {
        "id": "view-in-github",
        "colab_type": "text"
      },
      "source": [
        "<a href=\"https://colab.research.google.com/github/raghavdw/Health_-_Data/blob/main/Understanding_a_paper_on_CardioRespiratory_Fitness_and_Mortality.ipynb\" target=\"_parent\"><img src=\"https://colab.research.google.com/assets/colab-badge.svg\" alt=\"Open In Colab\"/></a>"
      ]
    },
    {
      "cell_type": "markdown",
      "source": [
        "The intent of this notebook is to understand the chart below from the paper [Cardiorespiratory Fitness and Morality Risk Across the Spectra of Age, Race and Sex](https://pubmed.ncbi.nlm.nih.gov/35926933/)\n",
        "\n"
      ],
      "metadata": {
        "id": "6D6vJUcgycz-"
      }
    },
    {
      "cell_type": "code",
      "execution_count": null,
      "metadata": {
        "id": "XtZrosVWyVsV"
      },
      "outputs": [],
      "source": []
    }
  ]
}